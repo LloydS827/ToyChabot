{
 "cells": [
  {
   "cell_type": "markdown",
   "metadata": {},
   "source": [
    "## 01 LCEL(Langchain Expression Language): Basic Example\n"
   ]
  },
  {
   "cell_type": "code",
   "execution_count": 2,
   "metadata": {},
   "outputs": [],
   "source": [
    "\n",
    "from langchain.chat_models import init_chat_model\n",
    "import os\n",
    "from dotenv import load_dotenv\n",
    "load_dotenv()\n",
    "llm = init_chat_model(\n",
    "    model=\"deepseek-chat\",\n",
    "    model_provider=\"openai\",\n",
    "    api_key=os.environ.get('DS_API_KEY'),\n",
    "    base_url=\"https://api.deepseek.com\",\n",
    "    temperature = 0.2,\n",
    ")\n",
    "\n",
    "from langchain.prompts import ChatPromptTemplate\n",
    "from langchain.schema.output_parser import StrOutputParser\n",
    "\n",
    "prompt_template = ChatPromptTemplate.from_messages(\n",
    "    [\n",
    "        (\"system\", \"You are a comedian who tells jokes about {topic}.\"),\n",
    "        (\"human\", \"Tell me {joke_count} jokes in {language}.\"),\n",
    "    ]\n",
    ")\n",
    "chain = prompt_template | llm | StrOutputParser()\n",
    "result = chain.invoke({\"topic\": \"dogs\", \"joke_count\": 3, \"language\": \"English\"})\n"
   ]
  },
  {
   "cell_type": "code",
   "execution_count": 3,
   "metadata": {},
   "outputs": [
    {
     "data": {
      "text/markdown": [
       "Sure, here are three dog-themed jokes for you:\n",
       "\n",
       "1. **Why did the dog sit in the shade?**  \n",
       "   Because he didn't want to be a hot dog!\n",
       "\n",
       "2. **What do you call a dog magician?**  \n",
       "   A labracadabrador!\n",
       "\n",
       "3. **Why don’t dogs make good secret keepers?**  \n",
       "   Because they wag their tails!"
      ],
      "text/plain": [
       "<IPython.core.display.Markdown object>"
      ]
     },
     "execution_count": 3,
     "metadata": {},
     "output_type": "execute_result"
    }
   ],
   "source": [
    "from IPython.display import Markdown\n",
    "Markdown(result)"
   ]
  },
  {
   "cell_type": "markdown",
   "metadata": {},
   "source": [
    "## 02 LCEL: Under the Hood"
   ]
  },
  {
   "cell_type": "code",
   "execution_count": 4,
   "metadata": {},
   "outputs": [],
   "source": [
    "from langchain.schema.runnable import RunnableLambda, RunnableSequence\n",
    "# Create individual runnables (steps in the chain)\n",
    "format_prompt = RunnableLambda(lambda x: prompt_template.format_prompt(**x))\n",
    "invoke_model = RunnableLambda(lambda x: llm.invoke(x.to_messages()))\n",
    "parse_output = RunnableLambda(lambda x: x.content)\n",
    "\n",
    "chain = RunnableSequence(first=format_prompt, middle=[invoke_model], last=parse_output)"
   ]
  },
  {
   "cell_type": "code",
   "execution_count": 5,
   "metadata": {},
   "outputs": [
    {
     "data": {
      "text/markdown": [
       "当然可以！以下是三个关于火车的中文笑话：\n",
       "\n",
       "1. **笑话一：**\n",
       "   - 问：火车为什么总是迟到？\n",
       "   - 答：因为它总是“拖拖拉拉”（谐音“拖拖拉拉”与“火车”）。\n",
       "\n",
       "2. **笑话二：**\n",
       "   - 问：火车最喜欢什么音乐？\n",
       "   - 答：当然是“咣当咣当”（火车行驶时的声音）的节奏啦！\n",
       "\n",
       "3. **笑话三：**\n",
       "   - 问：火车和飞机谁更厉害？\n",
       "   - 答：当然是飞机，因为它可以“飞”，而火车只能“跑”。\n",
       "\n",
       "希望你喜欢这些笑话！"
      ],
      "text/plain": [
       "<IPython.core.display.Markdown object>"
      ]
     },
     "execution_count": 5,
     "metadata": {},
     "output_type": "execute_result"
    }
   ],
   "source": [
    "result = chain.invoke({\"topic\": \"train\", \"joke_count\": 3, \"language\": \"Chinese\"})\n",
    "\n",
    "from IPython.display import Markdown\n",
    "Markdown(result)"
   ]
  },
  {
   "cell_type": "markdown",
   "metadata": {},
   "source": [
    "除了RunnableSequence，还有RunnableParallel(并行)，RunnableBranch(分支)，RunnableWithMessageHistory(历史)等等结构\n"
   ]
  },
  {
   "cell_type": "markdown",
   "metadata": {},
   "source": [
    "## 03-1 Connecting to LLM(Deepseek-chat)"
   ]
  },
  {
   "cell_type": "code",
   "execution_count": 1,
   "metadata": {},
   "outputs": [],
   "source": [
    "from langchain.chat_models import init_chat_model\n",
    "import os\n",
    "from dotenv import load_dotenv\n",
    "import warnings\n",
    "warnings.filterwarnings(\"ignore\")\n",
    "\n",
    "load_dotenv()\n",
    "llm = init_chat_model(\n",
    "    model=\"deepseek-chat\",\n",
    "    model_provider=\"openai\",\n",
    "    api_key=os.environ.get('DS_API_KEY'),\n",
    "    base_url=\"https://api.deepseek.com\",\n",
    "    temperature = 0.2,\n",
    ")"
   ]
  },
  {
   "cell_type": "markdown",
   "metadata": {},
   "source": [
    "## 03-2 Prompt Template"
   ]
  },
  {
   "cell_type": "code",
   "execution_count": 5,
   "metadata": {},
   "outputs": [],
   "source": [
    "from langchain_core.prompts import ChatPromptTemplate, MessagesPlaceholder\n",
    "from langchain_core.messages import SystemMessage\n",
    "\n",
    "prompt = ChatPromptTemplate.from_messages(\n",
    "    [\n",
    "        SystemMessage(content=\"You are a helpful assistant. Answer all questions to the best of your ability.\"),\n",
    "        MessagesPlaceholder(variable_name=\"messages\"),\n",
    "    ]\n",
    ")"
   ]
  },
  {
   "cell_type": "markdown",
   "metadata": {},
   "source": [
    "## 03-3 Chat History"
   ]
  },
  {
   "cell_type": "code",
   "execution_count": 2,
   "metadata": {},
   "outputs": [],
   "source": [
    "from langchain_core.chat_history import BaseChatMessageHistory, InMemoryChatMessageHistory\n",
    "store = {}\n",
    "def get_message_history(session_id) -> BaseChatMessageHistory:\n",
    "    if session_id not in store:\n",
    "        store[session_id] = InMemoryChatMessageHistory()\n",
    "    return store[session_id]\n",
    "\n",
    "config = {\"configurable\": {\"session_id\": \"a\"}} # session_id is required\n"
   ]
  },
  {
   "cell_type": "markdown",
   "metadata": {},
   "source": [
    "## 03-4 History Trimmer"
   ]
  },
  {
   "cell_type": "code",
   "execution_count": 3,
   "metadata": {},
   "outputs": [],
   "source": [
    "from langchain_core.messages import trim_messages\n",
    "import tiktoken\n",
    "\n",
    "def count_tokens(messages):\n",
    "    encoding = tiktoken.encoding_for_model(\"gpt-3.5-turbo\")\n",
    "    num_tokens = 0\n",
    "    for message in messages:\n",
    "        num_tokens += len(encoding.encode(message.content))\n",
    "    return num_tokens\n",
    "\n",
    "trimmer = trim_messages(\n",
    "    max_tokens=40,\n",
    "    strategy=\"last\",\n",
    "    token_counter=count_tokens,\n",
    "    include_system=True,\n",
    "    allow_partial=False,\n",
    "    start_on=\"human\",\n",
    ")"
   ]
  },
  {
   "cell_type": "markdown",
   "metadata": {},
   "source": [
    "## 03-5 Chaining Everythin with LCEL"
   ]
  },
  {
   "cell_type": "code",
   "execution_count": 6,
   "metadata": {},
   "outputs": [],
   "source": [
    "from langchain_core.output_parsers import StrOutputParser\n",
    "from langchain_core.runnables.history import RunnableWithMessageHistory\n",
    "\n",
    "chain = trimmer | prompt | llm | StrOutputParser()\n",
    "\n",
    "with_message_history = RunnableWithMessageHistory(chain, get_message_history)\n",
    "\n",
    "config = {\"configurable\": {\"session_id\": \"a\"}}"
   ]
  },
  {
   "cell_type": "code",
   "execution_count": 7,
   "metadata": {},
   "outputs": [
    {
     "data": {
      "text/plain": [
       "\"Hello! I'm here to assist you with a wide range of tasks, from answering questions and providing information to helping with creative writing, problem-solving, and more. Whether you need help with research, want to brainstorm ideas, or just have a casual chat, I'm here to make your experience as smooth and enjoyable as possible. How can I assist you today?\""
      ]
     },
     "execution_count": 7,
     "metadata": {},
     "output_type": "execute_result"
    }
   ],
   "source": [
    "from langchain_core.messages import HumanMessage\n",
    "with_message_history.invoke({\"messages\": [HumanMessage(content=\"Hello, Introduce yourself\")]}, config)"
   ]
  }
 ],
 "metadata": {
  "kernelspec": {
   "display_name": "chatbot",
   "language": "python",
   "name": "python3"
  },
  "language_info": {
   "codemirror_mode": {
    "name": "ipython",
    "version": 3
   },
   "file_extension": ".py",
   "mimetype": "text/x-python",
   "name": "python",
   "nbconvert_exporter": "python",
   "pygments_lexer": "ipython3",
   "version": "3.11.9"
  }
 },
 "nbformat": 4,
 "nbformat_minor": 2
}
